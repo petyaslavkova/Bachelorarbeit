{
  "nbformat": 4,
  "nbformat_minor": 0,
  "metadata": {
    "colab": {
      "name": "GANSimpsons.ipynb",
      "provenance": [],
      "authorship_tag": "ABX9TyNRd72OORil5M1dtP1ysg6P",
      "include_colab_link": true
    },
    "kernelspec": {
      "name": "python3",
      "display_name": "Python 3"
    },
    "language_info": {
      "name": "python"
    }
  },
  "cells": [
    {
      "cell_type": "markdown",
      "metadata": {
        "id": "view-in-github",
        "colab_type": "text"
      },
      "source": [
        "<a href=\"https://colab.research.google.com/github/petyaslavkova/Bachelorarbeit/blob/main/GANSimpsons.ipynb\" target=\"_parent\"><img src=\"https://colab.research.google.com/assets/colab-badge.svg\" alt=\"Open In Colab\"/></a>"
      ]
    },
    {
      "cell_type": "code",
      "metadata": {
        "id": "dMrjGJSMcTIx"
      },
      "source": [
        "##Test"
      ],
      "execution_count": null,
      "outputs": []
    }
  ]
}